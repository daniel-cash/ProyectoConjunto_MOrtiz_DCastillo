{
 "cells": [
  {
   "cell_type": "markdown",
   "metadata": {},
   "source": [
    "# **_Tarea 1: Proyecto conjunto Github y resumen python_**"
   ]
  },
  {
   "cell_type": "markdown",
   "metadata": {},
   "source": [
    "## Marcos Ortiz-Tirado Miranda\n",
    "## 23 años\n",
    "\n",
    "**Ocupación:** Estudiante de 6° semestre de Ing. Financiera en el ITESO.\n",
    "\n",
    "**Hobbies:** Escuchar música, leer, ver series, salir con amigos, hacer deporte.\n",
    "\n",
    "**Equipos favoritos:** Atlas FC, Liverpool FC, Washington Redskins, Oakland Athletics.\n",
    "\n",
    "**Espectativas de la materia:** Aprender aplicar distintas herramientas de simulación para el análisis financiero, pero principalmente, desarrollar habilidades de programación en python.\n",
    "\n"
   ]
  },
  {
   "cell_type": "markdown",
   "metadata": {
    "collapsed": true
   },
   "source": [
    "## Jesús Daniel Castillo Hernández\n",
    "### 23 años\n",
    "\n",
    "**Semblanza**\n",
    "\n",
    "*Estudiante de 9° semestre de Ingeniería Financiera en el ITESO. Apasionado de la economía y política. \n",
    "Con experiencia administración de riesgos cambiarios y ciencia de datos. \n",
    "Asistente de dirección en IQ Investment y analista de datos en Signa_Lab. \n"
   ]
  },
  {
   "cell_type": "markdown",
   "metadata": {},
   "source": [
    "### Resumen del artículo *\"Python has brought computer programming to a vast new audience\"*\n",
    "\n",
    "Python se ha convertido en uno de los lenguajes de programación más utilizados actualmente. Siendo el acutal campeón en búsquedas de google. Este lenguaje se ha vuelto atractivo para aprendices debido a su sencilla sintaxis y su verstilidad. Ya no sólo los ingenieros y expertos en ciencias de la computación están interesados en programar, sino que se ha vuelto una herramienta util para toda clase de profesionistas. \n",
    "\n",
    "Sin embargo, no solo los se ha convertido en un lenguaje para aprendices. Casi el 40% de los desarrolladores profesionales lo utilizan y existe un 25% más interesado en aprender. \n",
    "\n",
    "A diferencia de otros lenguajes, Python es de código abierto, lo que ha permitido a varios aficionados desarrollar un sinfín de paquetes. Aunque existen otros lenguajes más especializados y que permiten tener más control sobre lo que pasa en el computador, la variedad de librerias creadas por terceros aumenta el atractivo de este lenguaje. Aún así, Python se ha vuelto el lenguaje predilecto para los desarrolladores de redes neuronales y programas de inteligencia artificial.\n",
    "\n",
    "Para un futuro en el que muchos de los trabajos serán automatizados, que la mayoría de los estudiantes aprendan a programar desde una edad temprana será un punto clave. Lenguajes como Python podrán ayudar a que esto sea posible."
   ]
  },
  {
   "cell_type": "markdown",
   "metadata": {},
   "source": [
    "1. La fórmula del rectángulo se obtiene al interpolar a $f(x)$ por medio del polinomio constante $p_0(x) = f(\\frac{a+b}{2})$.\n",
    "\n",
    "$$\\int_{a}^{b} f(x) \\,dx \\approx (b-a) f(\\frac{a+b}{2}) = R(f).$$\n",
    "\n",
    "2. La fórmula del trapecio se obtiene al interpolar $f$ por medio de un polinomio lineal $p_1(x) = \\alpha x + \\beta$ que satisfaga $f(a) = p_1(a)$, y $f(b) = p_1(b)$. Determinar el polinomio lineal es equivalente a resolver un sistema de ecuaciones lineales para $\\alpha$ y $\\beta$ cuya solución es\n",
    "\n",
    "$$\\alpha = \\frac{f(b)-f(a)}{b-a} \\quad \\beta = \\frac{f(b)a-f(a)b}{b-a}.$$\n",
    "\n",
    "Al integrar $p_1(x)$ en el intervalo $[a,b]$ se obtiene la regla del trapecio con $h = b-a$\n",
    "\n",
    "$$\\int_{a}^{b} f(x) \\,dx \\approx \\int_{a}^{b} p_1(x) dx = \\frac{h}{2}(f(a)+f(b)) = T(f)$$\n",
    "\n",
    "El error está dado por\n",
    "\n",
    "$$\\int_{a}^{b} f(x) \\,dx - T(f) = -\\frac{h^3}{12}(f''(\\eta)), \\quad a<\\eta<b.$$\n",
    "\n",
    "3. Por último al integrar el polinomio cuadrático que interpola a $f$ en $x=a$, $x=\\frac{a+b}{2}$, $x=b$ se obtiene la regla de Simpson con $h = \\frac{b-a}{2}$}\n",
    "\n",
    "$$\\int_{a}^{b} f(x) \\,dx \\approx \\int_{a}^{b} p_2(x) \\,dx = \\frac{h}{3}(f(a)+4f(a+h)+f(b)) = S(f)$$\n",
    "\n",
    "El error que se comete al usar Simpson es\n",
    "\n",
    "$$\\int_{a}^{b} f(x) \\,dx - S(f) = -\\frac{h^5}{90}(f^(4)(\\eta)), \\quad a<\\eta<b.$$"
   ]
  },
  {
   "cell_type": "code",
   "execution_count": null,
   "metadata": {
    "collapsed": true
   },
   "outputs": [],
   "source": []
  }
 ],
 "metadata": {
  "kernelspec": {
   "display_name": "Python 3",
   "language": "python",
   "name": "python3"
  },
  "language_info": {
   "codemirror_mode": {
    "name": "ipython",
    "version": 3
   },
   "file_extension": ".py",
   "mimetype": "text/x-python",
   "name": "python",
   "nbconvert_exporter": "python",
   "pygments_lexer": "ipython3",
   "version": "3.6.3"
  }
 },
 "nbformat": 4,
 "nbformat_minor": 2
}
