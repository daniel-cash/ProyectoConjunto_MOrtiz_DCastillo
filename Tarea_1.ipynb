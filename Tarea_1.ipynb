{
 "cells": [
  {
   "cell_type": "markdown",
   "metadata": {},
   "source": [
    "# **_Tarea 1: Proyecto conjunto Github y resumen python_**"
   ]
  },
  {
   "cell_type": "markdown",
   "metadata": {},
   "source": [
    "## Marcos Ortiz-Tirado Miranda\n",
    "## 23 años\n",
    "\n",
    "**Ocupación:** Estudiante de 6° semestre de Ing. Financiera en el ITESO.\n",
    "\n",
    "**Hobbies:** Escuchar música, leer, ver series, salir con amigos, hacer deporte.\n",
    "\n",
    "**Equipos favoritos:** Atlas FC, Liverpool FC, Washington Redskins, Oakland Athletics.\n",
    "\n"
   ]
  },
  {
   "cell_type": "markdown",
   "metadata": {
    "collapsed": true
   },
   "source": [
    "## Jesús Daniel Castillo Hernández\n",
    "## 23 años\n",
    "\n",
    "**Ocupación:** Estudiante de 9° semestre de Ing. Financiera en el ITESO.\n"
   ]
  },
  {
   "cell_type": "code",
   "execution_count": null,
   "metadata": {
    "collapsed": true
   },
   "outputs": [],
   "source": []
  }
 ],
 "metadata": {
  "kernelspec": {
   "display_name": "Python 3",
   "language": "python",
   "name": "python3"
  },
  "language_info": {
   "codemirror_mode": {
    "name": "ipython",
    "version": 3
   },
   "file_extension": ".py",
   "mimetype": "text/x-python",
   "name": "python",
   "nbconvert_exporter": "python",
   "pygments_lexer": "ipython3",
   "version": "3.6.3"
  }
 },
 "nbformat": 4,
 "nbformat_minor": 2
}
