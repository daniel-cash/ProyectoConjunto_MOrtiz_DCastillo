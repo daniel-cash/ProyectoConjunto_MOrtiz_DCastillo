{
 "cells": [
  {
   "cell_type": "markdown",
   "metadata": {},
   "source": [
    "# **_Tarea 1: Proyecto conjunto Github y resumen python_**"
   ]
  },
  {
   "cell_type": "markdown",
   "metadata": {},
   "source": [
    "## Marcos Ortiz-Tirado Miranda\n",
    "## 23 años\n",
    "\n",
    "**Ocupación:** Estudiante de 6° semestre de Ing. Financiera en el ITESO.\n",
    "\n",
    "**Hobbies:** Escuchar música, leer, ver series, salir con amigos, hacer deporte.\n",
    "\n",
    "**Equipos favoritos:** Atlas FC, Liverpool FC, Washington Redskins, Oakland Athletics.\n",
    "\n",
    "**Espectativas de la materia:** Aprender aplicar distintas herramientas de simulación para el análisis financiero, pero principalmente, desarrollar habilidades de programación en python.\n",
    "\n"
   ]
  },
  {
   "cell_type": "markdown",
   "metadata": {},
   "source": [
    "### Resumen del artículo *\"Python has brought computer programming to a vast new audience\"*\n",
    "\n",
    "Python se ha convertido en uno de los lenguajes de programación más utilizados actualmente. Siendo el acutal campeón en búsquedas de google. Este lenguaje se ha vuelto atractivo para aprendices debido a su sencilla sintaxis y su verstilidad. Ya no sólo los ingenieros y expertos en ciencias de la computación están interesados en programar, sino que se ha vuelto una herramienta util para toda clase de profesionistas. \n",
    "\n",
    "Sin embargo, no solo los se ha convertido en un lenguaje para aprendices. Casi el 40% de los desarrolladores profesionales lo utilizan y existe un 25% más interesado en aprender. \n",
    "\n",
    "A diferencia de otros lenguajes, Python es de código abierto, lo que ha permitido a varios aficionados desarrollar un sinfín de paquetes. Aunque existen otros lenguajes más especializados y que permiten tener más control sobre lo que pasa en el computador, la variedad de librerias creadas por terceros aumenta el atractivo de este lenguaje. Aún así, Python se ha vuelto el lenguaje predilecto para los desarrolladores de redes neuronales y programas de inteligencia artificial.\n",
    "\n",
    "Para un futuro en el que muchos de los trabajos serán automatizados, que la mayoría de los estudiantes aprendan a programar desde una edad temprana será un punto clave. Lenguajes como Python podrán ayudar a que esto sea posible."
   ]
  },
  {
   "cell_type": "markdown",
   "metadata": {
    "collapsed": true
   },
   "source": [
    "## Jesús Daniel Castillo Hernández\n",
    "## 23 años\n",
    "\n",
    "**Ocupación:** Estudiante de 9° semestre de Ing. Financiera en el ITESO.\n"
   ]
  },
  {
   "cell_type": "code",
   "execution_count": null,
   "metadata": {
    "collapsed": true
   },
   "outputs": [],
   "source": []
  }
 ],
 "metadata": {
  "kernelspec": {
   "display_name": "Python 3",
   "language": "python",
   "name": "python3"
  },
  "language_info": {
   "codemirror_mode": {
    "name": "ipython",
    "version": 3
   },
   "file_extension": ".py",
   "mimetype": "text/x-python",
   "name": "python",
   "nbconvert_exporter": "python",
   "pygments_lexer": "ipython3",
   "version": "3.6.3"
  }
 },
 "nbformat": 4,
 "nbformat_minor": 2
}
