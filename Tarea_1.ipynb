{
 "cells": [
  {
   "cell_type": "markdown",
   "metadata": {},
   "source": [
    "# **_Tarea 1: Proyecto conjunto Github y resumen python_**"
   ]
  },
  {
   "cell_type": "markdown",
   "metadata": {},
   "source": [
    "## Marcos Ortiz-Tirado Miranda\n",
    "## 23 años\n",
    "\n",
    "**Ocupación:** Estudiante de 6° semestre de Ing. Financiera en el ITESO.\n",
    "\n",
    "**Hobbies:** Escuchar música, leer, ver series, salir con amigos, hacer deporte.\n",
    "\n",
    "**Equipos favoritos:** Atlas FC, Liverpool FC, Washington Redskins, Oakland Athletics.\n",
    "\n",
    "**Espectativas de la materia:** Aprender aplicar distintas herramientas de simulación para el análisis financiero, pero principalmente, desarrollar habilidades de programación en python.\n",
    "\n"
   ]
  },
  {
   "cell_type": "markdown",
   "metadata": {
    "collapsed": true
   },
   "source": [
    "## Jesús Daniel Castillo Hernández\n",
    "### 23 años\n",
    "\n",
    "**Semblanza**\n",
    "\n",
    "*Estudiante de 9° semestre de Ingeniería Financiera en el ITESO. Apasionado de la economía y política. \n",
    "Con experiencia administración de riesgos cambiarios y ciencia de datos. \n",
    "Asistente de dirección en IQ Investment y analista de datos en Signa_Lab. \n"
   ]
  },
  {
   "cell_type": "markdown",
   "metadata": {},
   "source": [
    "### Resumen del artículo *\"Python has brought computer programming to a vast new audience\"*\n",
    "\n",
    "Python se ha convertido en uno de los lenguajes de programación más utilizados actualmente. Siendo el acutal campeón en búsquedas de google. Este lenguaje se ha vuelto atractivo para aprendices debido a su sencilla sintaxis y su verstilidad. Ya no sólo los ingenieros y expertos en ciencias de la computación están interesados en programar, sino que se ha vuelto una herramienta util para toda clase de profesionistas. \n",
    "\n",
    "Sin embargo, no solo los se ha convertido en un lenguaje para aprendices. Casi el 40% de los desarrolladores profesionales lo utilizan y existe un 25% más interesado en aprender. \n",
    "\n",
    "A diferencia de otros lenguajes, Python es de código abierto, lo que ha permitido a varios aficionados desarrollar un sinfín de paquetes. Aunque existen otros lenguajes más especializados y que permiten tener más control sobre lo que pasa en el computador, la variedad de librerias creadas por terceros aumenta el atractivo de este lenguaje. Aún así, Python se ha vuelto el lenguaje predilecto para los desarrolladores de redes neuronales y programas de inteligencia artificial.\n",
    "\n",
    "Para un futuro en el que muchos de los trabajos serán automatizados, que la mayoría de los estudiantes aprendan a programar desde una edad temprana será un punto clave. Lenguajes como Python podrán ayudar a que esto sea posible."
   ]
  },
  {
   "cell_type": "markdown",
   "metadata": {},
   "source": [
    "**A continuación, se replica en código latex la figura 5:**"
   ]
  },
  {
   "cell_type": "markdown",
   "metadata": {},
   "source": [
    "1. La fórmula del rectángulo se obtiene al interpolar a $f(x)$ por medio del polinomio constante $p_0(x) = f(\\frac{a+b}{2})$.\n",
    "\n",
    " $$\\int_{a}^{b} f(x) \\,dx \\approx (b-a) f(\\frac{a+b}{2}) = R(f).$$\n",
    "\n",
    "2. La fórmula del trapecio se obtiene al interpolar $f$ por medio de un polinomio lineal $p_1(x) = \\alpha x + \\beta$ que satisfaga $f(a) = p_1(a)$, y $f(b) = p_1(b)$. Determinar el polinomio lineal es equivalente a resolver un sistema de ecuaciones lineales para $\\alpha$ y $\\beta$ cuya solución es\n",
    "\n",
    " $$\\alpha = \\frac{f(b)-f(a)}{b-a} \\quad \\beta = \\frac{f(b)a-f(a)b}{b-a}.$$\n",
    "\n",
    " Al integrar $p_1(x)$ en el intervalo $[a,b]$ se obtiene la regla del trapecio con $h = b-a$\n",
    "\n",
    " $$\\int_{a}^{b} f(x) \\,dx \\approx \\int_{a}^{b} p_1(x) dx = \\frac{h}{2}(f(a)+f(b)) = T(f)$$\n",
    "\n",
    " El error está dado por\n",
    "\n",
    " $$\\int_{a}^{b} f(x) \\,dx - T(f) = -\\frac{h^3}{12}(f''(\\eta)), \\quad a<\\eta<b.$$\n",
    "\n",
    "3. Por último al integrar el polinomio cuadrático que interpola a $f$ en $x=a$, $x=\\frac{a+b}{2}$, $x=b$ se obtiene la regla de Simpson con $h = \\frac{b-a}{2}$}\n",
    "\n",
    " $$\\int_{a}^{b} f(x) \\,dx \\approx \\int_{a}^{b} p_2(x) \\,dx = \\frac{h}{3}(f(a)+4f(a+h)+f(b)) = S(f)$$\n",
    "\n",
    " El error que se comete al usar Simpson es\n",
    "\n",
    " $$\\int_{a}^{b} f(x) \\,dx - S(f) = -\\frac{h^5}{90}(f^(4)(\\eta)), \\quad a<\\eta<b.$$"
   ]
  },
  {
   "cell_type": "markdown",
   "metadata": {},
   "source": [
    "**La siguiente es la sucesión de fibonacci:**"
   ]
  },
  {
   "cell_type": "code",
   "execution_count": 4,
   "metadata": {},
   "outputs": [
    {
     "data": {
      "text/plain": [
       "[0,\n",
       " 1,\n",
       " 1,\n",
       " 2,\n",
       " 3,\n",
       " 5,\n",
       " 8,\n",
       " 13,\n",
       " 21,\n",
       " 34,\n",
       " 55,\n",
       " 89,\n",
       " 144,\n",
       " 233,\n",
       " 377,\n",
       " 610,\n",
       " 987,\n",
       " 1597,\n",
       " 2584,\n",
       " 4181,\n",
       " 6765,\n",
       " 10946,\n",
       " 17711,\n",
       " 28657,\n",
       " 46368,\n",
       " 75025,\n",
       " 121393,\n",
       " 196418,\n",
       " 317811,\n",
       " 514229,\n",
       " 832040,\n",
       " 1346269,\n",
       " 2178309,\n",
       " 3524578,\n",
       " 5702887,\n",
       " 9227465,\n",
       " 14930352,\n",
       " 24157817,\n",
       " 39088169,\n",
       " 63245986,\n",
       " 102334155,\n",
       " 165580141,\n",
       " 267914296,\n",
       " 433494437,\n",
       " 701408733,\n",
       " 1134903170,\n",
       " 1836311903,\n",
       " 2971215073,\n",
       " 4807526976,\n",
       " 7778742049,\n",
       " 12586269025,\n",
       " 20365011074,\n",
       " 32951280099,\n",
       " 53316291173,\n",
       " 86267571272,\n",
       " 139583862445,\n",
       " 225851433717,\n",
       " 365435296162,\n",
       " 591286729879,\n",
       " 956722026041,\n",
       " 1548008755920,\n",
       " 2504730781961,\n",
       " 4052739537881,\n",
       " 6557470319842,\n",
       " 10610209857723,\n",
       " 17167680177565,\n",
       " 27777890035288,\n",
       " 44945570212853,\n",
       " 72723460248141,\n",
       " 117669030460994,\n",
       " 190392490709135,\n",
       " 308061521170129,\n",
       " 498454011879264,\n",
       " 806515533049393,\n",
       " 1304969544928657,\n",
       " 2111485077978050,\n",
       " 3416454622906707,\n",
       " 5527939700884757,\n",
       " 8944394323791464,\n",
       " 14472334024676221,\n",
       " 23416728348467685,\n",
       " 37889062373143906,\n",
       " 61305790721611591,\n",
       " 99194853094755497,\n",
       " 160500643816367088,\n",
       " 259695496911122585,\n",
       " 420196140727489673,\n",
       " 679891637638612258,\n",
       " 1100087778366101931,\n",
       " 1779979416004714189,\n",
       " 2880067194370816120,\n",
       " 4660046610375530309,\n",
       " 7540113804746346429,\n",
       " 12200160415121876738,\n",
       " 19740274219868223167,\n",
       " 31940434634990099905,\n",
       " 51680708854858323072,\n",
       " 83621143489848422977,\n",
       " 135301852344706746049]"
      ]
     },
     "execution_count": 4,
     "metadata": {},
     "output_type": "execute_result"
    }
   ],
   "source": [
    "fib = [0,1]\n",
    "a = 1\n",
    "for i in range(97): \n",
    "    fib = fib + [fib[i]+a] \n",
    "    a = a + fib[i]\n",
    "fib  "
   ]
  }
 ],
 "metadata": {
  "kernelspec": {
   "display_name": "Python 3",
   "language": "python",
   "name": "python3"
  },
  "language_info": {
   "codemirror_mode": {
    "name": "ipython",
    "version": 3
   },
   "file_extension": ".py",
   "mimetype": "text/x-python",
   "name": "python",
   "nbconvert_exporter": "python",
   "pygments_lexer": "ipython3",
   "version": "3.6.3"
  }
 },
 "nbformat": 4,
 "nbformat_minor": 2
}
